{
 "cells": [
  {
   "cell_type": "code",
   "execution_count": null,
   "metadata": {},
   "outputs": [],
   "source": [
    "import networkx as nx\n",
    "import numpy as np\n",
    "import pandas as pd\n",
    "import matplotlib.pyplot as plt\n",
    "import seaborn as sns\n",
    "sns.set_style(\"whitegrid\")\n",
    "import warnings\n",
    "warnings.simplefilter(action='ignore', category=FutureWarning)"
   ]
  },
  {
   "cell_type": "code",
   "execution_count": null,
   "metadata": {},
   "outputs": [],
   "source": [
    "df = pd.read_csv('Facebook_friendship_dataset.csv')"
   ]
  },
  {
   "cell_type": "code",
   "execution_count": null,
   "metadata": {},
   "outputs": [],
   "source": [
    "df_measures = pd.DataFrame(columns = ['SCI threshold values','Number of nodes', 'Average Degree', 'Average Shortest Path', 'Clustering'])\n",
    "\n",
    "for each_value in range(1,1000,10):\n",
    "\n",
    "    ##REDUCE DATASET WITH THRESHOLD\n",
    "    df_network = df[(df.SCI >= each_value)]\n",
    "    \n",
    "    ##CREATE NETWORK WITH THE REDUCE DATASET\n",
    "    facebook_network = nx.from_pandas_edgelist(df_network, source = 'Origin County', target = 'Destination County')\n",
    "    facebook_network.remove_edges_from(list(nx.selfloop_edges(facebook_network)))    \n",
    "    \n",
    "    ##NUMBER OF NODES\n",
    "    number_of_nodes = nx.number_of_nodes(facebook_network)\n",
    "    \n",
    "    ##AVERAGE DEGREE\n",
    "    average_degree = facebook_network.number_of_edges() / facebook_network.number_of_nodes()\n",
    "    \n",
    "    ##SHORTEST PATH\n",
    "    sub = [facebook_network.subgraph(c).copy() for c in nx.connected_components(facebook_network)]\n",
    "    giant = max(sub, key=len)        \n",
    "    shortest_path = nx.average_shortest_path_length(giant)\n",
    "    \n",
    "    ##CLUSTERING\n",
    "    clustering = nx.average_clustering(facebook_network)   \n",
    "    \n",
    "    ##CLEAR NETWORK\n",
    "    facebook_network.clear()\n",
    "    \n",
    "    df_measures = df_measures.append({'SCI threshold values' : each_value,'Number of nodes' : number_of_nodes, 'Average Degree' : average_degree, 'Average Shortest Path' : shortest_path, 'Clustering' : clustering}, ignore_index = True)"
   ]
  },
  {
   "cell_type": "code",
   "execution_count": null,
   "metadata": {},
   "outputs": [],
   "source": [
    "df_measures.to_csv('Facebook_measures.csv')"
   ]
  },
  {
   "cell_type": "code",
   "execution_count": null,
   "metadata": {},
   "outputs": [],
   "source": [
    "df_measures"
   ]
  },
  {
   "cell_type": "code",
   "execution_count": null,
   "metadata": {},
   "outputs": [],
   "source": [
    "sns.set_style('darkgrid')\n",
    "palette = iter(sns.husl_palette(5))\n",
    "fig, axs = plt.subplots(nrows=2,ncols=2, sharex='col')\n",
    "fig.tight_layout()\n",
    "sns.lineplot(data = df_measures, x = 'SCI threshold values', y = 'Number of nodes', lw = 3, color = '#FF5C4D', ax=axs[0][0])\n",
    "sns.lineplot(data = df_measures, x = 'SCI threshold values', y = 'Average Degree', lw = 3, color = '#B65CFF', ax=axs[0][1])\n",
    "sns.lineplot(data = df_measures, x = 'SCI threshold values', y = 'Average Shortest Path', lw = 3, color = '#52FF9F', ax=axs[1][0])\n",
    "sns.lineplot(data = df_measures, x = 'SCI threshold values', y = 'Average Shortest Path', lw = 3, color = '#4FB5FF', ax=axs[1][1])\n",
    "fig.set_size_inches(8, 6)\n",
    "fig.savefig(\"SM-Facebook.png\",dpi=200)\n",
    "plt.show()\n",
    "plt.close()"
   ]
  }
 ],
 "metadata": {
  "kernelspec": {
   "display_name": "Python 3",
   "language": "python",
   "name": "python3"
  },
  "language_info": {
   "codemirror_mode": {
    "name": "ipython",
    "version": 3
   },
   "file_extension": ".py",
   "mimetype": "text/x-python",
   "name": "python",
   "nbconvert_exporter": "python",
   "pygments_lexer": "ipython3",
   "version": "3.8.5"
  }
 },
 "nbformat": 4,
 "nbformat_minor": 4
}
