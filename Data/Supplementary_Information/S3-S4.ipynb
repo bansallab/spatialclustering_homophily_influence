{
 "cells": [
  {
   "cell_type": "code",
   "execution_count": null,
   "metadata": {},
   "outputs": [],
   "source": [
    "import pandas as pd\n",
    "import matplotlib.pyplot as plt\n",
    "import seaborn as sns\n",
    "import plotly.express as px\n",
    "import plotly.graph_objects as go\n",
    "from urllib.request import urlopen\n",
    "import json"
   ]
  },
  {
   "cell_type": "markdown",
   "metadata": {},
   "source": [
    "#######################################################################################################\n",
    "#######################################################################################################"
   ]
  },
  {
   "cell_type": "code",
   "execution_count": null,
   "metadata": {},
   "outputs": [],
   "source": [
    "df = pd.read_csv('../Data_sets/US_County_hesitancy.csv', index_col=False)"
   ]
  },
  {
   "cell_type": "code",
   "execution_count": null,
   "metadata": {},
   "outputs": [],
   "source": [
    "df_hesitancy = df[df['Year'] == 2015].copy()"
   ]
  },
  {
   "cell_type": "markdown",
   "metadata": {},
   "source": [
    "# S3 : Distribution of hesitancy"
   ]
  },
  {
   "cell_type": "markdown",
   "metadata": {},
   "source": [
    "## Hesitancy over time 2015-2018 "
   ]
  },
  {
   "cell_type": "code",
   "execution_count": null,
   "metadata": {},
   "outputs": [],
   "source": [
    "number_column = df.loc[:,'Hesitancy Level']\n",
    "x0 = number_column.values"
   ]
  },
  {
   "cell_type": "code",
   "execution_count": null,
   "metadata": {},
   "outputs": [],
   "source": [
    "df_year  = df[(df.Year.isin([2015,2018]))]\n",
    "number_column = df_year.loc[:,'Hesitancy Level']\n",
    "x3 = number_column.values"
   ]
  },
  {
   "cell_type": "code",
   "execution_count": null,
   "metadata": {},
   "outputs": [],
   "source": [
    "fig = go.Figure()\n",
    "fig.add_trace(go.Histogram(\n",
    "    x=x0,\n",
    "    histnorm='percent',\n",
    "    name='2015',\n",
    "    marker_color='#59E69E',\n",
    "    opacity=1\n",
    "))\n",
    "fig.add_trace(go.Histogram(\n",
    "    x=x3,\n",
    "    histnorm='percent',\n",
    "    name='2018',\n",
    "    marker_color='#BC70E6',\n",
    "    opacity=1\n",
    "))\n",
    "fig.update_layout(\n",
    "    font=dict(\n",
    "        size=18,\n",
    "        color=\"Black\"\n",
    "        ),\n",
    "    xaxis_title_text='Level of hesitancy in US counties',\n",
    "    yaxis_title_text='Frequency', \n",
    "    bargap=0.01,\n",
    "    bargroupgap=0.01, \n",
    "    paper_bgcolor = 'rgba(0, 0, 0, 0)'\n",
    ")\n",
    "fig.write_image(\"SF_Hesitancy_over_time.png\",scale=2)"
   ]
  },
  {
   "cell_type": "markdown",
   "metadata": {},
   "source": [
    "## Hesitancy in 4 states : 2015"
   ]
  },
  {
   "cell_type": "code",
   "execution_count": null,
   "metadata": {},
   "outputs": [],
   "source": [
    "df_hesitancy = df[(df.Year == 2015)]"
   ]
  },
  {
   "cell_type": "code",
   "execution_count": null,
   "metadata": {},
   "outputs": [],
   "source": [
    "number_column = df_hesitancy.loc[:,'Hesitancy Level']\n",
    "x0 = number_column.values"
   ]
  },
  {
   "cell_type": "code",
   "execution_count": null,
   "metadata": {},
   "outputs": [],
   "source": [
    "df_four  = df_hesitancy[(df_hesitancy.State.isin(['Arizona','California','Virginia','Maine']))]\n",
    "number_column = df_four.loc[:,'Hesitancy Level']\n",
    "x3 = number_column.values"
   ]
  },
  {
   "cell_type": "code",
   "execution_count": null,
   "metadata": {},
   "outputs": [],
   "source": [
    "fig = go.Figure()\n",
    "fig.add_trace(go.Histogram(\n",
    "    x=x0,\n",
    "    histnorm='percent',\n",
    "    name='All states',\n",
    "    marker_color='#59E69E',\n",
    "    opacity=1\n",
    "))\n",
    "fig.add_trace(go.Histogram(\n",
    "    x=x3,\n",
    "    histnorm='percent',\n",
    "    name='AZ, CA, ME and VA',\n",
    "    marker_color='#BC70E6',\n",
    "    opacity=1\n",
    "))\n",
    "fig.update_layout(\n",
    "    font=dict(\n",
    "        size=18,\n",
    "        color=\"Black\"\n",
    "        ),\n",
    "    xaxis_title_text='Level of hesitancy in US counties',\n",
    "    yaxis_title_text='Frequency', \n",
    "    bargap=0.01,\n",
    "    bargroupgap=0.01,\n",
    "    paper_bgcolor = 'rgba(0, 0, 0, 0)'\n",
    ")\n",
    "fig.write_image(\"Hesitancy_4_states.png\",scale=2)"
   ]
  }
 ],
 "metadata": {
  "kernelspec": {
   "display_name": "Python 3",
   "language": "python",
   "name": "python3"
  },
  "language_info": {
   "codemirror_mode": {
    "name": "ipython",
    "version": 3
   },
   "file_extension": ".py",
   "mimetype": "text/x-python",
   "name": "python",
   "nbconvert_exporter": "python",
   "pygments_lexer": "ipython3",
   "version": "3.8.5"
  }
 },
 "nbformat": 4,
 "nbformat_minor": 5
}
