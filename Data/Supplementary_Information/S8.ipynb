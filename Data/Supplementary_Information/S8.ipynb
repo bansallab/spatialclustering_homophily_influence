{
 "cells": [
  {
   "cell_type": "code",
   "execution_count": null,
   "metadata": {},
   "outputs": [],
   "source": [
    "import pandas as pd\n",
    "import matplotlib.pyplot as plt\n",
    "import seaborn as sns\n",
    "import networkx as nx\n",
    "import numpy as np"
   ]
  },
  {
   "cell_type": "markdown",
   "metadata": {},
   "source": [
    "#######################################################################################################\n",
    "#######################################################################################################"
   ]
  },
  {
   "cell_type": "markdown",
   "metadata": {},
   "source": [
    "# S8 : Traits"
   ]
  },
  {
   "cell_type": "markdown",
   "metadata": {},
   "source": [
    "## Spatial Network"
   ]
  },
  {
   "cell_type": "code",
   "execution_count": null,
   "metadata": {},
   "outputs": [],
   "source": [
    "df_proximity = pd.read_csv('../Data_sets/Proximity_county_network.csv',index_col = None)"
   ]
  },
  {
   "cell_type": "code",
   "execution_count": null,
   "metadata": {},
   "outputs": [],
   "source": [
    "spatial_network = nx.from_pandas_edgelist(df_proximity, source = 'county_origin', target = 'county_destination')\n",
    "spatial_network.remove_edges_from(list(nx.selfloop_edges(spatial_network)))    "
   ]
  },
  {
   "cell_type": "markdown",
   "metadata": {},
   "source": [
    "## Hesitancy"
   ]
  },
  {
   "cell_type": "code",
   "execution_count": null,
   "metadata": {},
   "outputs": [],
   "source": [
    "df10 = pd.read_csv('../Data_sets/US_County_hesitancy.csv', index_col=False)"
   ]
  },
  {
   "cell_type": "code",
   "execution_count": null,
   "metadata": {},
   "outputs": [],
   "source": [
    "df_hesitancy = df10[df10['Year'] == 2015][['FIPS','Hesitancy Level']]"
   ]
  },
  {
   "cell_type": "markdown",
   "metadata": {},
   "source": [
    "## Network"
   ]
  },
  {
   "cell_type": "code",
   "execution_count": null,
   "metadata": {},
   "outputs": [],
   "source": [
    "# REMOVE COUNTIES IN HESITANCY NOT IN SPATIAL NETWORK\n",
    "spatial_network.remove_nodes_from([each_node for each_node in list(df_hesitancy['FIPS']) if each_node not in  spatial_network.nodes()])"
   ]
  },
  {
   "cell_type": "code",
   "execution_count": null,
   "metadata": {},
   "outputs": [],
   "source": [
    "# REMOVE COUNTIES IN SPATIAL NETWORK NOT IN HESITANCY NOT \n",
    "spatial_network.remove_nodes_from([each_node for each_node in spatial_network.nodes() if each_node not in list(df_hesitancy['FIPS'])])"
   ]
  },
  {
   "cell_type": "code",
   "execution_count": null,
   "metadata": {},
   "outputs": [],
   "source": [
    "nodes = list(df_hesitancy['FIPS'])\n",
    "hesitancy_dict = dict(zip(nodes, list(df_hesitancy['Hesitancy Level'])))\n",
    "status_dict = dict(zip(nodes, ['Vulnerable' if each_hesitancy >= 0.05 else 'Protected' for each_node, each_hesitancy in hesitancy_dict.items()]))"
   ]
  },
  {
   "cell_type": "code",
   "execution_count": null,
   "metadata": {},
   "outputs": [],
   "source": [
    "# ASIGN ATTRIBUTES TO COUNTIES\n",
    "nx.set_node_attributes(spatial_network, hesitancy_dict, \"Hesitancy\")\n",
    "nx.set_node_attributes(spatial_network, status_dict, \"Status\")"
   ]
  },
  {
   "cell_type": "markdown",
   "metadata": {},
   "source": [
    "## Measure neighboring influence "
   ]
  },
  {
   "cell_type": "code",
   "execution_count": null,
   "metadata": {},
   "outputs": [],
   "source": [
    "multiplier = np.percentile(np.array(df_hesitancy['Hesitancy Level']),95)"
   ]
  },
  {
   "cell_type": "code",
   "execution_count": null,
   "metadata": {},
   "outputs": [],
   "source": [
    "multiplier = np.percentile(np.array(df_hesitancy['Hesitancy Level']),95)\n",
    "fraction = [ sum([(spatial_network.nodes[each_neighbor]['Hesitancy']) for each_neighbor in spatial_network.neighbors(each_node)])  / spatial_network.degree(each_node) / multiplier for each_node in spatial_network.nodes()]\n",
    "nodes = [ spatial_network.nodes[each_node]['Status'] for each_node in spatial_network.nodes()]"
   ]
  },
  {
   "cell_type": "code",
   "execution_count": null,
   "metadata": {},
   "outputs": [],
   "source": [
    "df_neighboring = pd.DataFrame(\n",
    "    {'County Status': nodes,\n",
    "     'Neighboring level of influence': fraction,\n",
    "    })\n"
   ]
  },
  {
   "cell_type": "code",
   "execution_count": null,
   "metadata": {},
   "outputs": [],
   "source": [
    "colors = ['#9171D1','#71B7D1']\n",
    "sns.set_palette(sns.color_palette(colors))\n",
    "ax = sns.pointplot(x = \"County Status\", y = \"Neighboring level of influence\", hue = 'County Status', linestyle = '', data = df_neighboring, dodge=True)\n",
    "plt.grid(axis='y')\n",
    "plt.legend(title=False,loc=\"upper left\",fontsize=14)\n",
    "plt.xticks(fontsize=12)\n",
    "plt.yticks(fontsize=12)\n",
    "plt.xlabel(\"County status\",fontsize=14)\n",
    "plt.ylabel(\"Neighboring level of influence\",fontsize=14)\n",
    "ax.figure.savefig('SF-influence-neighboring.png',transparent=True,dpi=200)"
   ]
  }
 ],
 "metadata": {
  "kernelspec": {
   "display_name": "Python 3",
   "language": "python",
   "name": "python3"
  },
  "language_info": {
   "codemirror_mode": {
    "name": "ipython",
    "version": 3
   },
   "file_extension": ".py",
   "mimetype": "text/x-python",
   "name": "python",
   "nbconvert_exporter": "python",
   "pygments_lexer": "ipython3",
   "version": "3.8.5"
  }
 },
 "nbformat": 4,
 "nbformat_minor": 5
}
