{
 "cells": [
  {
   "cell_type": "code",
   "execution_count": null,
   "metadata": {},
   "outputs": [],
   "source": [
    "import pandas as pd\n",
    "import matplotlib.pyplot as plt\n",
    "import seaborn as sns\n",
    "import plotly.express as px\n",
    "import plotly.graph_objects as go\n",
    "from urllib.request import urlopen\n",
    "import json"
   ]
  },
  {
   "cell_type": "markdown",
   "metadata": {},
   "source": [
    "#######################################################################################################\n",
    "#######################################################################################################"
   ]
  },
  {
   "cell_type": "markdown",
   "metadata": {},
   "source": [
    "# S5 : Traits"
   ]
  },
  {
   "cell_type": "code",
   "execution_count": null,
   "metadata": {},
   "outputs": [],
   "source": [
    "df = pd.read_csv('../Data_sets/US_County_traits.csv')"
   ]
  },
  {
   "cell_type": "code",
   "execution_count": null,
   "metadata": {},
   "outputs": [],
   "source": [
    "df_traits = df[df['year'] == 2014].copy()\n",
    "df_traits.FIPS = df_traits.FIPS.astype(float).astype(int).astype(str).str.zfill(5)\n",
    "df_traits['High Income'] = df_traits['High Income']. div(100). round(2)"
   ]
  },
  {
   "cell_type": "code",
   "execution_count": null,
   "metadata": {},
   "outputs": [],
   "source": [
    "with urlopen('https://raw.githubusercontent.com/plotly/datasets/master/geojson-counties-fips.json') as response:\n",
    "    counties = json.load(response)\n",
    "\n",
    "fig = px.choropleth(df_traits,                 # name of your dataframe\n",
    "                    geojson=counties,\n",
    "                    locations='FIPS', # name of column in df that has the county fips\n",
    "                    color='High Income',      # name of column in df that has the data you want to plot\n",
    "                    color_continuous_scale='rdpu', #magenta\n",
    "                    range_color = [0,0.8],\n",
    "                    scope='usa'\n",
    "                   )\n",
    "fig.update_traces(marker_line_width=0.1,  # controls county border line width\n",
    "                  marker_opacity=0.85,  # changes fill color opacity to let state borders through\n",
    "                  marker_line_color='#262626',  # controls county border color; needs to be darker than \"states\"\n",
    "                  )\n",
    "\n",
    "\n",
    "fig.write_image(\"SF-Income.png\", scale=2)"
   ]
  },
  {
   "cell_type": "code",
   "execution_count": null,
   "metadata": {},
   "outputs": [],
   "source": [
    "with urlopen('https://raw.githubusercontent.com/plotly/datasets/master/geojson-counties-fips.json') as response:\n",
    "    counties = json.load(response)\n",
    "\n",
    "fig = px.choropleth(df_traits,                 # name of your dataframe\n",
    "                    geojson=counties,\n",
    "                    locations='FIPS', # name of column in df that has the county fips\n",
    "                    color='Household Size',      # name of column in df that has the data you want to plot\n",
    "                    color_continuous_scale='purples', \n",
    "                    range_color = [1,4],\n",
    "                    scope='usa'\n",
    "                   )\n",
    "fig.update_traces(marker_line_width=0.1,  # controls county border line width\n",
    "                  marker_opacity=0.85,  # changes fill color opacity to let state borders through\n",
    "                  marker_line_color='#262626',  # controls county border color; needs to be darker than \"states\"\n",
    "                  )\n",
    "\n",
    "\n",
    "fig.write_image(\"SF-Household.png\", scale=2)"
   ]
  }
 ],
 "metadata": {
  "kernelspec": {
   "display_name": "Python 3",
   "language": "python",
   "name": "python3"
  },
  "language_info": {
   "codemirror_mode": {
    "name": "ipython",
    "version": 3
   },
   "file_extension": ".py",
   "mimetype": "text/x-python",
   "name": "python",
   "nbconvert_exporter": "python",
   "pygments_lexer": "ipython3",
   "version": "3.8.5"
  }
 },
 "nbformat": 4,
 "nbformat_minor": 5
}
