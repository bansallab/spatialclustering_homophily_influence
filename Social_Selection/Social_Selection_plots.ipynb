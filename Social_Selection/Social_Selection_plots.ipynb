{
 "cells": [
  {
   "cell_type": "code",
   "execution_count": null,
   "metadata": {},
   "outputs": [],
   "source": [
    "import pandas as pd\n",
    "import numpy as np\n",
    "import matplotlib.pyplot as plt\n",
    "import seaborn as sns\n",
    "sns.set_style(\"whitegrid\")"
   ]
  },
  {
   "cell_type": "markdown",
   "metadata": {},
   "source": [
    "##################################################################################################################\n",
    "##################################################################################################################\n",
    "##################################################################################################################"
   ]
  },
  {
   "cell_type": "code",
   "execution_count": null,
   "metadata": {},
   "outputs": [],
   "source": [
    "name_file = ['Target_high_hesitancy','Target_social_selection','Target_randomly']\n",
    "df = pd.read_csv('Social-Selection-SC-strategy-No_strategy.csv', index_col=False)\n",
    "\n",
    "for each_name in name:\n",
    "    df10 = pd.read_csv('Social-Selection-SC-strategy-'+each_name+'.csv', index_col=False)\n",
    "    df.append(df10, ignore_index = False)"
   ]
  },
  {
   "cell_type": "markdown",
   "metadata": {},
   "source": [
    "##################################################################################################################\n",
    "##################################################################################################################\n",
    "##################################################################################################################"
   ]
  },
  {
   "cell_type": "markdown",
   "metadata": {},
   "source": [
    "# SPATIAL CLUSTERING"
   ]
  },
  {
   "cell_type": "code",
   "execution_count": null,
   "metadata": {
    "tags": []
   },
   "outputs": [],
   "source": [
    "selection_show =  [0.0, 0.02, 0.04, 0.07, 0.11, 0.14, 0.18, 0.22, 0.26, 0.3, 0.34]\n",
    "df_SC = df[(df['Social Selection'].isin(selection_show)) & (df['Strategy'] == 'No strategy')]\n",
    "\n",
    "ssteps = df_SC['Social Selection'].nunique()\n",
    "df_SC"
   ]
  },
  {
   "cell_type": "code",
   "execution_count": null,
   "metadata": {},
   "outputs": [],
   "source": [
    "palette = sns.color_palette(\"rocket\", df_SC['Social Selection'].nunique())"
   ]
  },
  {
   "cell_type": "code",
   "execution_count": null,
   "metadata": {},
   "outputs": [],
   "source": [
    "g = sns.lineplot(data = df_SC, x = 'Network : Probability of rewiring', y = 'Spatial Clustering', hue = 'Social Selection', \\\n",
    "                        style = 'Social Selection', palette = palette, err_style = 'band', ci = 'sd', linewidth = 3)\n",
    "\n",
    "plt.grid(axis='x')\n",
    "plt.xlim(0.0,1.0)\n",
    "plt.xticks(np.arange(0, 1)) \n",
    "plt.annotate('', xy=(0.3, -0.05), xycoords='axes fraction', xytext=(0.7, -0.05), arrowprops=dict(arrowstyle=\"<-\", color='black'))\n",
    "plt.tick_params(bottom = False)\n",
    "plt.xticks([0.0,1],['Spatial','Aspatial'], fontsize=14)\n",
    "plt.yticks(fontsize=14)\n",
    "plt.legend([],[], frameon = False)\n",
    "plt.xlabel(\"Network Structure\", fontsize=14)\n",
    "plt.ylabel(\"Spatial Clustering\", fontsize=14)\n",
    "g.figure.savefig('Spatial_Clustering_vs_Network_Structure_Social-Selection.png',transparent=True,dpi=200)"
   ]
  },
  {
   "cell_type": "markdown",
   "metadata": {
    "tags": []
   },
   "source": [
    "##################################################################################################################\n",
    "##################################################################################################################\n",
    "##################################################################################################################"
   ]
  },
  {
   "cell_type": "markdown",
   "metadata": {},
   "source": [
    "# MITIGATION STRATEGIES"
   ]
  },
  {
   "cell_type": "code",
   "execution_count": null,
   "metadata": {},
   "outputs": [],
   "source": [
    "selection_show, p_value  = [0.0, 0.04, 0.08, 0.12, 0.16, 0.2, 0.24, 0.28, 0.32, 0.36, 0.38], 0.0\n",
    "df_strategy = df[(df['Social Selection'].isin(selection_show)) & (df['Network : Probability of rewiring'] == p_value)].copy()\n",
    "df_strategy['Relative spatial clustering'] = df_strategy['Spatial Clustering']/df_strategy['Spatial Clustering without strategy']\n",
    "df_strategy = df_strategy[df_strategy.Strategy != 'No strategy']"
   ]
  },
  {
   "cell_type": "code",
   "execution_count": null,
   "metadata": {},
   "outputs": [],
   "source": [
    "palette = sns.color_palette(\"rocket\", df_strategy['Strategy'].nunique())"
   ]
  },
  {
   "cell_type": "markdown",
   "metadata": {},
   "source": [
    "## SPATIAL CLUSTERING"
   ]
  },
  {
   "cell_type": "code",
   "execution_count": null,
   "metadata": {},
   "outputs": [],
   "source": [
    "g = sns.lineplot(data = df_strategy, x = \"Social Selection\", y = 'Spatial Clustering', hue = 'Strategy', \\\n",
    "                        style = 'Strategy', palette = palette, err_style = 'band', ci = 'sd', linewidth = 3)\n",
    "plt.grid(axis='y')\n",
    "plt.xlim(0.05,0.4)\n",
    "plt.xticks(fontsize=14)\n",
    "plt.yticks(fontsize=14)\n",
    "plt.ylim(0,0.5)\n",
    "plt.legend(fontsize=12, bbox_to_anchor=(1.05, 1), loc=2, borderaxespad=0.)\n",
    "plt.xlabel(\"Social Selection\", fontsize=16)\n",
    "plt.ylabel(\"Relative spatial clustering\", fontsize=16)\n",
    "g.figure.savefig('SS-Strategy-rewiring-p-'+str(p_value)+'.png', bbox_inches='tight', dpi=300)"
   ]
  },
  {
   "cell_type": "markdown",
   "metadata": {},
   "source": [
    "## RELATIVE SPATIAL CLUSTERING"
   ]
  },
  {
   "cell_type": "code",
   "execution_count": null,
   "metadata": {},
   "outputs": [],
   "source": [
    "g = sns.lineplot(data = df_strategy, x = \"Social Selection\", y = 'Relative spatial clustering', hue = 'Strategy', \\\n",
    "                        style = 'Strategy', palette = palette, err_style = 'band', ci = 'sd', linewidth = 3)\n",
    "plt.grid(axis='y')\n",
    "plt.xlim(0.05,0.4)\n",
    "plt.xticks(fontsize=14)\n",
    "plt.yticks(fontsize=14)\n",
    "plt.ylim(0,1)\n",
    "plt.legend(fontsize=12, bbox_to_anchor=(1.05, 1), loc=2, borderaxespad=0.)\n",
    "plt.xlabel(\"Social Selection\", fontsize=16)\n",
    "plt.ylabel(\"Relative spatial clustering\", fontsize=16)\n",
    "g.figure.savefig('SS-Strategy-rewiring-p-'+str(p_value)+'.png', bbox_inches='tight', dpi=300)"
   ]
  }
 ],
 "metadata": {
  "kernelspec": {
   "display_name": "Python 3",
   "language": "python",
   "name": "python3"
  },
  "language_info": {
   "codemirror_mode": {
    "name": "ipython",
    "version": 3
   },
   "file_extension": ".py",
   "mimetype": "text/x-python",
   "name": "python",
   "nbconvert_exporter": "python",
   "pygments_lexer": "ipython3",
   "version": "3.8.5"
  }
 },
 "nbformat": 4,
 "nbformat_minor": 5
}
