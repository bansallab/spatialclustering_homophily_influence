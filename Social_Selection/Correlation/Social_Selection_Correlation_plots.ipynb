{
 "cells": [
  {
   "cell_type": "code",
   "execution_count": null,
   "metadata": {},
   "outputs": [],
   "source": [
    "import pandas as pd\n",
    "import numpy as np\n",
    "import matplotlib.pyplot as plt\n",
    "import seaborn as sns\n",
    "sns.set_style(\"whitegrid\")"
   ]
  },
  {
   "cell_type": "markdown",
   "metadata": {},
   "source": [
    "##################################################################################################################\n",
    "##################################################################################################################\n",
    "##################################################################################################################"
   ]
  },
  {
   "cell_type": "code",
   "execution_count": null,
   "metadata": {},
   "outputs": [],
   "source": [
    "df = pd.read_csv('SF-Correlation.csv.csv', index_col=False)"
   ]
  },
  {
   "cell_type": "markdown",
   "metadata": {},
   "source": [
    "##################################################################################################################\n",
    "##################################################################################################################\n",
    "##################################################################################################################"
   ]
  },
  {
   "cell_type": "markdown",
   "metadata": {},
   "source": [
    "# SPATIAL CLUSTERING"
   ]
  },
  {
   "cell_type": "code",
   "execution_count": null,
   "metadata": {},
   "outputs": [],
   "source": [
    "palette = sns.color_palette(\"rocket\", df_SC['Social Selection'].nunique())"
   ]
  },
  {
   "cell_type": "code",
   "execution_count": null,
   "metadata": {},
   "outputs": [],
   "source": [
    "g = sns.lineplot(data = df_SC, x = 'Social Selection', y = 'Spatial Clustering', hue = 'Correlation', \\\n",
    "                        style = 'Correlation', palette = palette, err_style = 'band', ci = 'sd', linewidth = 3)\n",
    "\n",
    "plt.grid(axis='x')\n",
    "plt.xlim(0.02,0.45)\n",
    "plt.xticks(np.arange(0, 1)) \n",
    "plt.annotate('', xy=(0.3, -0.05), xycoords='axes fraction', xytext=(0.7, -0.05), arrowprops=dict(arrowstyle=\"<-\", color='black'))\n",
    "plt.tick_params(bottom = False)\n",
    "plt.xticks([0.0,1],['Spatial','Aspatial'], fontsize=14)\n",
    "plt.yticks(fontsize=14)\n",
    "plt.legend([],[], frameon = False)\n",
    "plt.xlabel(\"Network Structure\", fontsize=14)\n",
    "plt.ylabel(\"Spatial Clustering\", fontsize=14)\n",
    "g.figure.savefig('SF-Correlation.png',transparent=True,dpi=200)"
   ]
  }
 ],
 "metadata": {
  "kernelspec": {
   "display_name": "Python 3",
   "language": "python",
   "name": "python3"
  },
  "language_info": {
   "codemirror_mode": {
    "name": "ipython",
    "version": 3
   },
   "file_extension": ".py",
   "mimetype": "text/x-python",
   "name": "python",
   "nbconvert_exporter": "python",
   "pygments_lexer": "ipython3",
   "version": "3.8.5"
  }
 },
 "nbformat": 4,
 "nbformat_minor": 5
}
