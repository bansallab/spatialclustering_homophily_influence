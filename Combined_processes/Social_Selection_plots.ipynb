{
 "cells": [
  {
   "cell_type": "code",
   "execution_count": null,
   "metadata": {},
   "outputs": [],
   "source": [
    "import pandas as pd\n",
    "import numpy as np\n",
    "import matplotlib.pyplot as plt\n",
    "import seaborn as sns\n",
    "sns.set_style(\"whitegrid\")"
   ]
  },
  {
   "cell_type": "markdown",
   "metadata": {},
   "source": [
    "##################################################################################################################\n",
    "##################################################################################################################\n",
    "##################################################################################################################"
   ]
  },
  {
   "cell_type": "code",
   "execution_count": null,
   "metadata": {},
   "outputs": [],
   "source": [
    "df = pd.read_csv('Combined-Processes-SC.csv', index_col=False)"
   ]
  },
  {
   "cell_type": "markdown",
   "metadata": {},
   "source": [
    "## AFFECTABLE SOCIETY"
   ]
  },
  {
   "cell_type": "code",
   "execution_count": null,
   "metadata": {},
   "outputs": [],
   "source": [
    "# Affectable : 0.2 / Determined : 0.6\n",
    "df = df[df['Social Influence'] == 0.2]"
   ]
  },
  {
   "cell_type": "code",
   "execution_count": null,
   "metadata": {},
   "outputs": [],
   "source": [
    "steps = df['SocialSelection'].nunique()\n",
    "palette = sns.color_palette(\"rocket_r\",steps)\n",
    "\n",
    "sns_plot = sns.lineplot(data = df, x = \"p\", y=\"Spatial Clustering\", hue = 'Social Selection', style = 'Social Selection',\\\n",
    "                        markers=False, linewidth = 3, palette = palette, err_style='band', ci = 'sd')\n",
    "plt.grid(axis='y')\n",
    "plt.xlim(0.0,1)\n",
    "plt.ylim(0.0,0.8)\n",
    "plt.annotate('', xy=(0.3, -0.05), xycoords='axes fraction', xytext=(0.7, -0.05), \n",
    "            arrowprops=dict(arrowstyle=\"<-\", color='black'))\n",
    "plt.tick_params(bottom = False)\n",
    "plt.xticks([0.06,0.93],['Spatial','Aspatial'], fontsize=14)\n",
    "plt.yticks(fontsize=14)\n",
    "#plt.ylim(0,0.55)\n",
    "plt.legend([],[], frameon=False)\n",
    "plt.xlabel(\"Network Structure\", fontsize=14)\n",
    "plt.ylabel(\"Spatial Clustering\", fontsize=14)\n",
    "sns_plot.figure.savefig('4a-Combined'+str(inf[0])+'.png',transparent=True,dpi=200)"
   ]
  },
  {
   "cell_type": "markdown",
   "metadata": {},
   "source": [
    "## DETERMINED SOCIETY"
   ]
  },
  {
   "cell_type": "code",
   "execution_count": null,
   "metadata": {},
   "outputs": [],
   "source": [
    "df = df[df['Social Influence'] == 0.6]"
   ]
  },
  {
   "cell_type": "code",
   "execution_count": null,
   "metadata": {},
   "outputs": [],
   "source": [
    "steps = df['SocialSelection'].nunique()\n",
    "palette = sns.color_palette(\"rocket_r\",steps)\n",
    "\n",
    "sns_plot = sns.lineplot(data = df, x = \"p\", y=\"Spatial Clustering\", hue = 'Social Selection', style = 'Social Selection',\\\n",
    "                        markers=False, linewidth = 3, palette = palette, err_style='band', ci = 'sd')\n",
    "plt.grid(axis='y')\n",
    "plt.xlim(0.0,1)\n",
    "plt.ylim(0.0,0.8)\n",
    "plt.annotate('', xy=(0.3, -0.05), xycoords='axes fraction', xytext=(0.7, -0.05), \n",
    "            arrowprops=dict(arrowstyle=\"<-\", color='black'))\n",
    "plt.tick_params(bottom = False)\n",
    "plt.xticks([0.06,0.93],['Spatial','Aspatial'], fontsize=14)\n",
    "plt.yticks(fontsize=14)\n",
    "#plt.ylim(0,0.55)\n",
    "plt.legend([],[], frameon=False)\n",
    "plt.xlabel(\"Network Structure\", fontsize=14)\n",
    "plt.ylabel(\"Spatial Clustering\", fontsize=14)\n",
    "sns_plot.figure.savefig('4a-Combined'+str(inf[0])+'.png',transparent=True,dpi=200)"
   ]
  }
 ],
 "metadata": {
  "kernelspec": {
   "display_name": "Python 3",
   "language": "python",
   "name": "python3"
  },
  "language_info": {
   "codemirror_mode": {
    "name": "ipython",
    "version": 3
   },
   "file_extension": ".py",
   "mimetype": "text/x-python",
   "name": "python",
   "nbconvert_exporter": "python",
   "pygments_lexer": "ipython3",
   "version": "3.8.5"
  }
 },
 "nbformat": 4,
 "nbformat_minor": 5
}
