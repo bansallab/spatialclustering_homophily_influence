{
 "cells": [
  {
   "cell_type": "code",
   "execution_count": null,
   "metadata": {},
   "outputs": [],
   "source": [
    "import pandas as pd\n",
    "import numpy as np\n",
    "import matplotlib.pyplot as plt\n",
    "import seaborn as sns\n",
    "sns.set_style(\"whitegrid\")"
   ]
  },
  {
   "cell_type": "markdown",
   "metadata": {},
   "source": [
    "##################################################################################################################\n",
    "##################################################################################################################\n",
    "##################################################################################################################"
   ]
  },
  {
   "cell_type": "code",
   "execution_count": null,
   "metadata": {
    "scrolled": true
   },
   "outputs": [],
   "source": [
    "df = pd.read_csv('Social-Influence-SC.csv')\n",
    "df"
   ]
  },
  {
   "cell_type": "markdown",
   "metadata": {},
   "source": [
    "##################################################################################################################\n",
    "##################################################################################################################\n",
    "##################################################################################################################"
   ]
  },
  {
   "cell_type": "markdown",
   "metadata": {},
   "source": [
    "# SPATIAL CLUSTERING"
   ]
  },
  {
   "cell_type": "code",
   "execution_count": null,
   "metadata": {
    "tags": []
   },
   "outputs": [],
   "source": [
    "influence_show =  [0.1, 0.26, 0.28, 0.3, 0.34, 0.38, 0.40, 0.44, 0.46, 0.52]\n",
    "df_SC = df[(df['Social Influence'].isin(influence_show))]\n",
    "isteps = df_SC['Social Influence'].nunique()"
   ]
  },
  {
   "cell_type": "code",
   "execution_count": null,
   "metadata": {},
   "outputs": [],
   "source": [
    "palette = sns.color_palette(\"mako_r\", df_SC['Social Influence'].nunique())"
   ]
  },
  {
   "cell_type": "code",
   "execution_count": null,
   "metadata": {},
   "outputs": [],
   "source": [
    "g = sns.lineplot(data = df_SC, x = 'Network : Probability of rewiring', y = 'Spatial Clustering', hue = 'Social Influence', \\\n",
    "                        style = 'Social Influence', palette = palette, err_style = 'band', ci = 'sd', linewidth = 3)\n",
    "plt.grid(axis='x')\n",
    "plt.xlim(0.0,1.0)\n",
    "plt.xticks(np.arange(0, 1)) \n",
    "plt.annotate('', xy=(0.3, -0.05), xycoords='axes fraction', xytext=(0.7, -0.05), arrowprops=dict(arrowstyle=\"<-\", color='black'))\n",
    "plt.tick_params(bottom = False)\n",
    "plt.xticks([0.06,0.93],['Spatial','Aspatial'], fontsize=14)\n",
    "plt.yticks(fontsize=14)\n",
    "plt.legend([],[], frameon = False)\n",
    "plt.xlabel(\"Network Structure\", fontsize=14)\n",
    "plt.ylabel(\"Spatial Clustering\", fontsize=14)\n",
    "g.figure.savefig('Spatial_Clustering_vs_Network_Structure_Social-Influence.png',transparent=True,dpi=200)"
   ]
  },
  {
   "cell_type": "markdown",
   "metadata": {
    "tags": []
   },
   "source": [
    "##################################################################################################################\n",
    "##################################################################################################################\n",
    "##################################################################################################################"
   ]
  },
  {
   "cell_type": "markdown",
   "metadata": {},
   "source": [
    "# MITIGATION STRATEGIES"
   ]
  },
  {
   "cell_type": "code",
   "execution_count": null,
   "metadata": {
    "tags": []
   },
   "outputs": [],
   "source": [
    "influence_show, p_value  = [0.2,0.28,0.4,0.5], 0.2\n",
    "df_strategy = df[(df['Social Influence'].isin(influence_show)) & (df['Network : Probability of rewiring'] == p_value)].copy()\n",
    "df_strategy['Spatial Clustering without strategy'] = list(pd.concat([df_strategy['Spatial Clustering'][df_strategy['Strategy : Probability of rewiring'] == 0.0] ] * df_strategy['Strategy : Probability of rewiring'].nunique(), ignore_index=True))\n",
    "df_strategy['Relative spatial clustering'] = df_strategy['Spatial Clustering'] / df_strategy['Spatial Clustering without strategy']"
   ]
  },
  {
   "cell_type": "code",
   "execution_count": null,
   "metadata": {},
   "outputs": [],
   "source": [
    "palette = sns.color_palette(\"mako_r\", df_strategy['Strategy : Probability of rewiring'].nunique())"
   ]
  },
  {
   "cell_type": "markdown",
   "metadata": {},
   "source": [
    "## SPATIAL CLUSTERING"
   ]
  },
  {
   "cell_type": "code",
   "execution_count": null,
   "metadata": {},
   "outputs": [],
   "source": [
    "g = sns.lineplot(data = df_strategy, x = \"Social Influence\", y = 'Spatial Clustering', hue = 'Strategy : Probability of rewiring', \\\n",
    "                        style = 'Strategy : Probability of rewiring', palette = palette, err_style = 'band', ci = 'sd', linewidth = 3)\n",
    "plt.grid(axis='y')\n",
    "plt.xlim(0.2,0.5)\n",
    "plt.xticks(fontsize=14)\n",
    "plt.yticks(fontsize=14)\n",
    "plt.ylim(0,0.5)\n",
    "plt.legend(title = 'Rewiring probability', fontsize=12, bbox_to_anchor=(1.05, 1), loc=2, borderaxespad=0.)\n",
    "plt.xlabel(\"Social Influence\", fontsize=16)\n",
    "plt.ylabel(\"Spatial Clustering\", fontsize=16)\n",
    "g.figure.savefig('SI-Strategy-rewiring-p-'+str(p_value)+'.png', bbox_inches='tight', dpi=300)"
   ]
  },
  {
   "cell_type": "markdown",
   "metadata": {},
   "source": [
    "## RELATIVE SPATIAL CLUSTERING"
   ]
  },
  {
   "cell_type": "code",
   "execution_count": null,
   "metadata": {},
   "outputs": [],
   "source": [
    "g = sns.lineplot(data = df_strategy, x = \"Social Influence\", y = 'Relative spatial clustering', hue = 'Strategy : Probability of rewiring', \\\n",
    "                        style = 'Strategy : Probability of rewiring', palette = palette, err_style = 'band', ci = 'sd', linewidth = 3)\n",
    "plt.grid(axis='y')\n",
    "plt.xlim(0.2,0.5)\n",
    "plt.xticks(fontsize=14)\n",
    "plt.yticks(fontsize=14)\n",
    "plt.ylim(0,1)\n",
    "plt.legend(title = 'Rewiring probability', fontsize=12, bbox_to_anchor=(1.05, 1), loc=2, borderaxespad=0.)\n",
    "plt.xlabel(\"Social Influence\", fontsize=16)\n",
    "plt.ylabel(\"Spatial Clustering\", fontsize=16)\n",
    "g.figure.savefig('SI-Strategy-rewiring-p-'+str(p_value)+'.png', bbox_inches='tight', dpi=300)"
   ]
  }
 ],
 "metadata": {
  "kernelspec": {
   "display_name": "Python 3",
   "language": "python",
   "name": "python3"
  },
  "language_info": {
   "codemirror_mode": {
    "name": "ipython",
    "version": 3
   },
   "file_extension": ".py",
   "mimetype": "text/x-python",
   "name": "python",
   "nbconvert_exporter": "python",
   "pygments_lexer": "ipython3",
   "version": "3.8.5"
  }
 },
 "nbformat": 4,
 "nbformat_minor": 5
}
